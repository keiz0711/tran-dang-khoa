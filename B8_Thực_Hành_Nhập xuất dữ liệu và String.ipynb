{
 "cells": [
  {
   "cell_type": "code",
   "execution_count": 129,
   "id": "c4500382",
   "metadata": {},
   "outputs": [
    {
     "name": "stdout",
     "output_type": "stream",
     "text": [
      "123\n",
      "13579\n",
      "147\n",
      "13579\n",
      "987654321\n",
      "89\n",
      "87654321\n",
      "3456789\n",
      "321\n"
     ]
    }
   ],
   "source": [
    "# cắt string theo index\n",
    "# cú pháp : <tên biến > [start:end:step]\n",
    "#start > 0 lấy từ bên trái; start < 0 lấy từ bên phải\n",
    "#step > 0 lấy cách bước chuỗi bình thường; step < 0 lấy cách bước nghịch đảo chuỗi\n",
    "\n",
    "text = \"123456789\"\n",
    "print(text[0:3]) #lấy 3 ký tự từ trái qua\n",
    "print(text[0:10:2]) #lấy 10 ký tự từ trái qua, cách 2 bước lấy 1 ký tự\n",
    "print(text[0:len(text):3]) #lấy toàn bộ ký tự, cách 3 bước lấy 1 ký tự\n",
    "print(text[::2]) #start default là 0 , end default là len(text), \n",
    "print(text[::-1]) #step giá trị âm là đi từ phải sang và nghịch đảo chuỗi\n",
    "\n",
    "print(text[7::1])\n",
    "print(text[7::-1])\n",
    "\n",
    "print(text[-7::1])\n",
    "print(text[-7::-1])\n",
    "\n"
   ]
  },
  {
   "cell_type": "code",
   "execution_count": 8,
   "id": "493419fb",
   "metadata": {},
   "outputs": [
    {
     "name": "stdout",
     "output_type": "stream",
     "text": [
      "123456789 1111\n"
     ]
    }
   ],
   "source": [
    "# ghep chuỗi và lặp chuỗi \n",
    "text=\"123456789\"\n",
    "tx1=\"1111\"\n",
    "tx2=text+\" \"+tx1\n",
    "\n",
    "print(tx2)\n",
    "print(tx2*4)"
   ]
  },
  {
   "cell_type": "code",
   "execution_count": 9,
   "id": "ce8e459a",
   "metadata": {},
   "outputs": [
    {
     "name": "stdout",
     "output_type": "stream",
     "text": [
      "2\n",
      "5\n"
     ]
    }
   ],
   "source": [
    "# count\n",
    "chuoi=\"11 22 33 44 55 66 77 88 99999\"\n",
    "\n",
    "print(chuoi.count(\"1\"))\n",
    "print(chuoi.count(\"9\"))\n"
   ]
  },
  {
   "cell_type": "markdown",
   "id": "b6a2b340",
   "metadata": {},
   "source": [
    "#### thực hành xử lý và in ra các thông tin tương ứng trong chuỗi "
   ]
  },
  {
   "cell_type": "code",
   "execution_count": 18,
   "id": "b1467f87",
   "metadata": {},
   "outputs": [
    {
     "name": "stdout",
     "output_type": "stream",
     "text": [
      "Lớp học\n",
      "python\n",
      "căn bản \n",
      "\n"
     ]
    }
   ],
   "source": [
    "content = \"Lớp học python căn bản buổi 8\"\n",
    "# in ra 2 chữ :lớp học\n",
    "print(content[:7])\n",
    "\n",
    "# in ra 2 chữ: python\n",
    "print(content[8:14])\n",
    "\n",
    "# in ra 2 chữ: căn bản\n",
    "print(content[15:23])\n",
    "\n",
    "# in ra chữ : buổi 8\n",
    "print(content[-1:-6])"
   ]
  },
  {
   "cell_type": "markdown",
   "id": "ac31fbb3",
   "metadata": {},
   "source": [
    "# Bài Tập thực hành"
   ]
  },
  {
   "cell_type": "markdown",
   "id": "4ec0a0d3",
   "metadata": {},
   "source": [
    "## Bài Tập 1"
   ]
  },
  {
   "cell_type": "markdown",
   "id": "ca31248e",
   "metadata": {},
   "source": [
    "Giả sử một chiếc ô tô có vận tốc ban đầu v0, gia tốc a và thời gian t.</p>\n",
    "Viết chương trình python để tìm vận tốc cuối cùng của ô tô và in kết quả ra màn hình.</p>\n",
    "Sử dụng lệnh ép kiểu input() để nhập các giá trị tương ứng cho v0, a và t.</p>\n",
    "Dùng công thức v = v0 + a.t để tính vận tốc cuối cùng"
   ]
  },
  {
   "cell_type": "code",
   "execution_count": 22,
   "id": "aa8f4dde",
   "metadata": {},
   "outputs": [
    {
     "name": "stdout",
     "output_type": "stream",
     "text": [
      "Vận tốc V0 (m/s) là:2\n",
      "Gia tốc a (m/s^2) là:2\n",
      "Thời gian di chuyển t (s) là:2\n",
      "vận tốc cuối (m/s) sau 2 (s) là: 6\n"
     ]
    }
   ],
   "source": [
    "v0=int(input(\"Vận tốc V0 (m/s) là:\"))\n",
    "a=int(input(\"Gia tốc a (m/s^2) là:\"))\n",
    "t=int(input(\"Thời gian di chuyển t (s) là:\"))\n",
    "\n",
    "print(\"vận tốc cuối (m/s) sau\", t, \"(s) là:\",v0+a*t)"
   ]
  },
  {
   "cell_type": "markdown",
   "id": "8b02bcd4",
   "metadata": {},
   "source": [
    "## Bài tập 2"
   ]
  },
  {
   "cell_type": "markdown",
   "id": "ab6b37b6",
   "metadata": {},
   "source": [
    "Viết chương trình để nhập điểm kiểm tra, điểm thi giữa kỳ, điểm thi cuối kỳ, sau đó tính tổng điểm và in kết quả ra màn hình"
   ]
  },
  {
   "cell_type": "code",
   "execution_count": 27,
   "id": "095535a9",
   "metadata": {},
   "outputs": [
    {
     "name": "stdout",
     "output_type": "stream",
     "text": [
      "Điểm thi đầu kỳ: 8\n",
      "Điểm thi giữa kỳ: 8\n",
      "Điểm thi cuối kỳ: 8\n",
      "Tổng điểm thi là: 24\n"
     ]
    }
   ],
   "source": [
    "dau=int(input(\"Điểm thi đầu kỳ: \"))\n",
    "giua=int(input(\"Điểm thi giữa kỳ: \"))\n",
    "cuoi=int(input(\"Điểm thi cuối kỳ: \"))\n",
    "tong=dau+giua+cuoi           \n",
    "           \n",
    "print(\"Tổng điểm thi là:\", tong)"
   ]
  },
  {
   "cell_type": "markdown",
   "id": "076b8074",
   "metadata": {},
   "source": [
    "## Bài Tập 3"
   ]
  },
  {
   "cell_type": "markdown",
   "id": "c0009d80",
   "metadata": {},
   "source": [
    "Viết chương chình nhập vào vận tốc và thời gian của xe chạy của xe taxi </p>\n",
    "yêu cầu 1 :tính quãng đường xe chạy được bao nhiêu km.</p>\n",
    "yêu cầu 2 : đổi km về m </p>\n",
    "yêu cầu 3 : cho biết cứ mỗi 1 km thì được tính với giá cước là 23000 đồng ,hãy tính tổng số tiền khách phải trả."
   ]
  },
  {
   "cell_type": "code",
   "execution_count": 32,
   "id": "d6f3db27",
   "metadata": {},
   "outputs": [
    {
     "name": "stdout",
     "output_type": "stream",
     "text": [
      "Vận tốc V (km/h) là: 60\n",
      "Thời gian di chuyển t (h) là: 3\n",
      "Quãng đường đi được sau 3 (h) là: 180 (km)\n",
      "Quãng đường đi được sau 3 (h) là: 180000 (m)\n",
      "Số tiền cần phải trả cho 180 (km) là: 4140000 đồng\n"
     ]
    }
   ],
   "source": [
    "v=int(input(\"Vận tốc V (km/h) là: \"))\n",
    "t=int(input(\"Thời gian di chuyển t (h) là: \"))\n",
    "s=v*t\n",
    "\n",
    "print(\"Quãng đường đi được sau\", t,\"(h) là:\", s,\"(km)\")\n",
    "print(\"Quãng đường đi được sau\", t,\"(h) là:\", s*1000,\"(m)\")\n",
    "print(\"Số tiền cần phải trả cho\", s, \"(km) là:\",s*23000,\"đồng\")\n"
   ]
  },
  {
   "cell_type": "markdown",
   "id": "14e3f09c",
   "metadata": {},
   "source": [
    "## Bài Tập 4"
   ]
  },
  {
   "cell_type": "markdown",
   "id": "07a5d8a0",
   "metadata": {},
   "source": [
    "### Nhập vào một string và một số x ,hãy xóa x ký tự đầu tiên của string </p>\n",
    "ví dụ : string = \"hello python\" ,x = 3 </p>\n",
    "    output: \"lo python\""
   ]
  },
  {
   "cell_type": "code",
   "execution_count": 44,
   "id": "b1465df0",
   "metadata": {},
   "outputs": [
    {
     "name": "stdout",
     "output_type": "stream",
     "text": [
      "Số ký tự cần xóa: 5\n",
      "Chuỗi còn lại: 67890\n"
     ]
    }
   ],
   "source": [
    "string=\"1234567890\"\n",
    "x=int(input(\"Số ký tự cần xóa: \"))\n",
    "\n",
    "print(\"Chuỗi còn lại:\",string[x:len(string)])"
   ]
  },
  {
   "cell_type": "markdown",
   "id": "1cd79c05",
   "metadata": {},
   "source": [
    "## Bài Tập 5"
   ]
  },
  {
   "cell_type": "markdown",
   "id": "d0956054",
   "metadata": {},
   "source": [
    "Nhập vào một string ,hãy kiểm tra đây có phải là một string đối xứng không</p>\n",
    "Lưu ý : chuối đối xứng là chuối có thứ tự giống nhau khi đọc từ trái sáng phải hoặc ngược lại</p>\n",
    "vd : abba , abcddcba"
   ]
  },
  {
   "cell_type": "code",
   "execution_count": 98,
   "id": "43d5c2eb",
   "metadata": {},
   "outputs": [
    {
     "name": "stdout",
     "output_type": "stream",
     "text": [
      "True\n"
     ]
    }
   ],
   "source": [
    "string=\"123454321\"\n",
    "a=string[::-1] #lật ngược string\n",
    "\n",
    "print(a==string)"
   ]
  },
  {
   "cell_type": "markdown",
   "id": "2d88272f",
   "metadata": {},
   "source": [
    "## Bài Tập 6 "
   ]
  },
  {
   "cell_type": "markdown",
   "id": "ba2c57ba",
   "metadata": {},
   "source": [
    "Nhập vào một chuỗi string gồm 5 chữ và thực hiện các thao tác :</p>\n",
    "    in ra đổi 2 chữ đầu tiên</p>\n",
    "    in ra chuỗi đó đều in thường</p>\n",
    "    in ra chuỗi đó đều in hoa</p>\n",
    "    in cắt chuỗi đó thành nhiều chuỗi nhỏ</p>\n",
    "    in cắt đó thành những từ có nghĩa</p>\n",
    "    "
   ]
  },
  {
   "cell_type": "code",
   "execution_count": 110,
   "id": "a86cc73b",
   "metadata": {},
   "outputs": [
    {
     "name": "stdout",
     "output_type": "stream",
     "text": [
      "ngày mai Trời Nắng to\n",
      "hôm nay trời nắng to\n",
      "HÔM NAY TRỜI NẮNG TO\n",
      "['hôm', 'nay', 'Trời', 'Nắng', 'to']\n"
     ]
    }
   ],
   "source": [
    "string=\"hôm nay Trời Nắng to\"\n",
    "\n",
    "print(string.replace(\"hôm nay\",\"ngày mai\"))\n",
    "print(string.lower())\n",
    "print(string.upper())\n",
    "print(string.split())\n"
   ]
  },
  {
   "cell_type": "markdown",
   "id": "a562eb4b",
   "metadata": {},
   "source": [
    "## Bài Tập 7"
   ]
  },
  {
   "cell_type": "markdown",
   "id": "fe077b04",
   "metadata": {},
   "source": [
    "Nhập vào 2 chuỗi , chuỗi 1 là Họ và tên đệm, chuỗi 2 là tên của mình </p>\n",
    "Yêu cầu : nối 2 chuỗi lại hoàn chỉnh </p>\n",
    "    vd : Họ tên đêm : Nguyễn Văn </p>\n",
    "        Tên : A</p>\n",
    "     output: Nguyễn Văn A"
   ]
  },
  {
   "cell_type": "code",
   "execution_count": 103,
   "id": "c7787a7c",
   "metadata": {},
   "outputs": [
    {
     "name": "stdout",
     "output_type": "stream",
     "text": [
      "Nhập họ và tên đệm: Trần\n",
      "Nhập tên: Keiz\n",
      "Output: Trần Keiz\n"
     ]
    }
   ],
   "source": [
    "ho=input(\"Nhập họ và tên đệm: \")\n",
    "ten=input(\"Nhập tên: \")\n",
    "print(\"Output:\",ho+\" \"+ten)"
   ]
  },
  {
   "cell_type": "code",
   "execution_count": null,
   "id": "9028d82d",
   "metadata": {},
   "outputs": [],
   "source": []
  }
 ],
 "metadata": {
  "kernelspec": {
   "display_name": "Python 3 (ipykernel)",
   "language": "python",
   "name": "python3"
  },
  "language_info": {
   "codemirror_mode": {
    "name": "ipython",
    "version": 3
   },
   "file_extension": ".py",
   "mimetype": "text/x-python",
   "name": "python",
   "nbconvert_exporter": "python",
   "pygments_lexer": "ipython3",
   "version": "3.9.13"
  }
 },
 "nbformat": 4,
 "nbformat_minor": 5
}
