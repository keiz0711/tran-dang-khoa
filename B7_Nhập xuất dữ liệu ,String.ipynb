{
 "cells": [
  {
   "cell_type": "markdown",
   "id": "5c5bd570",
   "metadata": {},
   "source": [
    "# Nhập xuất dữ liệu và String"
   ]
  },
  {
   "cell_type": "markdown",
   "id": "5bb00c21",
   "metadata": {},
   "source": [
    "## cách nhập xuất dữ liệu"
   ]
  },
  {
   "cell_type": "markdown",
   "id": "9e169781",
   "metadata": {},
   "source": [
    "để in những nội dung chúng ta mong muốn ra màn hình ,chúng ta sử dụng lệnh print()"
   ]
  },
  {
   "cell_type": "code",
   "execution_count": 2,
   "id": "435ee833",
   "metadata": {},
   "outputs": [
    {
     "name": "stdout",
     "output_type": "stream",
     "text": [
      "python is very easy\n"
     ]
    }
   ],
   "source": [
    "# ví dụ : ta in ra màn hình nội dung \"python is very easy\"\n",
    "python = \"python is very easy\"\n",
    "print(\"python is very easy\")\n"
   ]
  },
  {
   "cell_type": "markdown",
   "id": "925922f5",
   "metadata": {},
   "source": [
    "## Các cách custom với lệnh print()\n",
    "để in một nội dung kèm theo giá trị của biến , ta có những cách sau "
   ]
  },
  {
   "cell_type": "code",
   "execution_count": 3,
   "id": "a16ccadf",
   "metadata": {},
   "outputs": [],
   "source": [
    "food_1 = \"Trà Sữa\"\n",
    "food_2 = \"Nước cam\""
   ]
  },
  {
   "cell_type": "code",
   "execution_count": 4,
   "id": "f2fa04a9",
   "metadata": {},
   "outputs": [
    {
     "name": "stdout",
     "output_type": "stream",
     "text": [
      "tui thích uống trà sữa và tui thích uống nước cam\n"
     ]
    }
   ],
   "source": [
    "# In trực tiếp\n",
    "print(\"tui thích uống trà sữa và tui thích uống nước cam\")"
   ]
  },
  {
   "cell_type": "code",
   "execution_count": 5,
   "id": "a09bef17",
   "metadata": {},
   "outputs": [
    {
     "name": "stdout",
     "output_type": "stream",
     "text": [
      "tui thích uống  Trà Sữa và tui thích uống  Nước cam\n"
     ]
    }
   ],
   "source": [
    "# in bằng cách ghép các nội dung chữ với nhau\n",
    "print(\"tui thích uống \", food_1, \"và tui thích uống \", food_2)"
   ]
  },
  {
   "cell_type": "code",
   "execution_count": 6,
   "id": "8d337341",
   "metadata": {},
   "outputs": [
    {
     "name": "stdout",
     "output_type": "stream",
     "text": [
      "tôi thích uống Trà Sữa và tôi không thích uống Nước cam\n"
     ]
    }
   ],
   "source": [
    "# in theo format string\n",
    "print(f'tôi thích uống {food_1} và tôi không thích uống {food_2}')"
   ]
  },
  {
   "cell_type": "code",
   "execution_count": 7,
   "id": "20fae4d6",
   "metadata": {},
   "outputs": [
    {
     "name": "stdout",
     "output_type": "stream",
     "text": [
      "tui thích uống Trà Sữa\n",
      "tui khum thích uống \n",
      "Nước cam\n"
     ]
    }
   ],
   "source": [
    "# sử dụng nhiều lệnh print\n",
    "print(\"tui thích uống\",end=\" \")\n",
    "print(food_1)\n",
    "print(\"tui khum thích uống \")\n",
    "print(food_2)"
   ]
  },
  {
   "cell_type": "markdown",
   "id": "3b96ce72",
   "metadata": {},
   "source": [
    "## Nhập dữ liệu\n",
    "để nhập dữ liệu vào chương trình , chúng ta sử dụng hàm input()"
   ]
  },
  {
   "cell_type": "code",
   "execution_count": 8,
   "id": "e925ff53",
   "metadata": {},
   "outputs": [
    {
     "name": "stdout",
     "output_type": "stream",
     "text": [
      "Bài học: hello\n"
     ]
    }
   ],
   "source": [
    "coursea=input(\"Bài học: \")"
   ]
  },
  {
   "cell_type": "markdown",
   "id": "2c618354",
   "metadata": {},
   "source": [
    "#### Thực Hành: Viết chương trình tính chu vi và diện tích hình chữ nhật và in ra màn hình các cách hiện thị, input được nhập từ bàn phím "
   ]
  },
  {
   "cell_type": "code",
   "execution_count": 9,
   "id": "85dedbec",
   "metadata": {},
   "outputs": [
    {
     "name": "stdout",
     "output_type": "stream",
     "text": [
      "Nhập chiều dài :3\n",
      "Nhập chiều rộng:5\n"
     ]
    }
   ],
   "source": [
    "# nhập các kích thước của hình chữ nhật\n",
    "chieudai=int(input(\"Nhập chiều dài: \"))\n",
    "chieurong=int(input(\"Nhập chiều rộng:\"))"
   ]
  },
  {
   "cell_type": "code",
   "execution_count": 16,
   "id": "3850ca14",
   "metadata": {},
   "outputs": [
    {
     "name": "stdout",
     "output_type": "stream",
     "text": [
      "Nhập chiều dài: 10\n",
      "Nhập chiều rộng: 5\n",
      "Chu vi hình chữ nhật: 30\n",
      "Diện tích hình chữ nhật: 50\n",
      "Chu vi hình chữ nhật là 30 và diện tích hình chữa nhật là 50\n",
      "Chu vi hình chữ nhật là 30 và diện tích hình chữ nhật là 50\n"
     ]
    }
   ],
   "source": [
    "# tính chu vi và diện tích \n",
    "chieudai=int(input(\"Nhập chiều dài: \"))\n",
    "chieurong=int(input(\"Nhập chiều rộng: \"))\n",
    "\n",
    "print(\"Chu vi hình chữ nhật:\", (chieudai+chieurong)*2)\n",
    "print(\"Diện tích hình chữ nhật:\", chieudai*chieurong)\n",
    "\n",
    "print(f'Chu vi hình chữ nhật là {(chieudai+chieurong)*2} và diện tích hình chữa nhật là {chieudai*chieurong}')\n",
    "\n",
    "print(\"Chu vi hình chữ nhật là\", (chieudai+chieurong)*2, end=\" \")\n",
    "print(\"và diện tích hình chữ nhật là\", chieudai*chieurong)\n"
   ]
  },
  {
   "cell_type": "code",
   "execution_count": 9,
   "id": "1db28ac3",
   "metadata": {},
   "outputs": [],
   "source": [
    "# in ra 3 cách hiển thị của kết quả\n"
   ]
  },
  {
   "cell_type": "markdown",
   "id": "5707258e",
   "metadata": {},
   "source": [
    "#### Thực hành : viết chương trình nhập vào số đo canh và mã màu của tam giác đều , sau đó sử dụng thư viện turtle vẽ ra số đo và màu tương ứng"
   ]
  },
  {
   "cell_type": "code",
   "execution_count": null,
   "id": "324ae994",
   "metadata": {},
   "outputs": [
    {
     "name": "stdout",
     "output_type": "stream",
     "text": [
      "Nhập độ dài của cạnh hình tam giác: 300\n",
      "Nhập màu: #D1F3D9\n"
     ]
    }
   ],
   "source": [
    "import turtle as tl\n",
    "import math\n",
    "k = tl.Turtle()\n",
    "tl.bgcolor(\"black\")\n",
    "k.pensize (5)\n",
    "k.pencolor(\"green\")\n",
    "k.speed(2)\n",
    "\n",
    "canh=int(input(\"Nhập độ dài của cạnh hình tam giác: \"))\n",
    "mau=input(\"Nhập màu cần tô: \")\n",
    "\n",
    "k.fillcolor(mau)\n",
    "k.begin_fill()\n",
    "for i in range (0,3):\n",
    "    k.forward(canh)\n",
    "    k.left(120)\n",
    "k.end_fill()\n",
    "\n",
    "    \n",
    "tl.done()"
   ]
  },
  {
   "cell_type": "code",
   "execution_count": 1,
   "id": "b3b0c46c",
   "metadata": {},
   "outputs": [
    {
     "name": "stdout",
     "output_type": "stream",
     "text": [
      "Nhập độ dài của hình đa giác: 200\n",
      "Nhập màu cần tô: #D1F3D9\n",
      "Số lượng cạnh cua3 đa giác: 5\n"
     ]
    }
   ],
   "source": [
    "import turtle as tl\n",
    "import math\n",
    "k = tl.Turtle()\n",
    "tl.bgcolor(\"black\")\n",
    "k.pensize (5)\n",
    "k.pencolor(\"green\")\n",
    "k.speed(2)\n",
    "\n",
    "canh=int(input(\"Nhập độ dài của hình đa giác: \"))\n",
    "mau=input(\"Nhập màu cần tô: \")\n",
    "goc=int(input(\"Số lượng cạnh cua3 đa giác: \"))\n",
    "\n",
    "\n",
    "k.fillcolor(mau)\n",
    "k.begin_fill()\n",
    "k.circle(canh,steps=goc)\n",
    "k.end_fill()\n",
    "\n",
    "\n",
    "tl.done()"
   ]
  },
  {
   "cell_type": "markdown",
   "id": "214858de",
   "metadata": {},
   "source": [
    "## Cú Pháp import"
   ]
  },
  {
   "cell_type": "markdown",
   "id": "9c3c3f3f",
   "metadata": {},
   "source": [
    "để sử dụng một module từ bên ngoài , chúng ta sử dụng từ khóa import . Sau đây là một số ví dụ import phổ biến "
   ]
  },
  {
   "cell_type": "markdown",
   "id": "491929e7",
   "metadata": {},
   "source": [
    "#### Random một giá trị ngẫu nhiên "
   ]
  },
  {
   "cell_type": "code",
   "execution_count": 30,
   "id": "0349d04d",
   "metadata": {},
   "outputs": [
    {
     "name": "stdout",
     "output_type": "stream",
     "text": [
      "3.141592653589793\n"
     ]
    }
   ],
   "source": [
    "# import toàn bộ module\n",
    "import math\n",
    "print(math.pi)"
   ]
  },
  {
   "cell_type": "code",
   "execution_count": 31,
   "id": "5131c8d3",
   "metadata": {},
   "outputs": [
    {
     "name": "stdout",
     "output_type": "stream",
     "text": [
      "3.141592653589793\n"
     ]
    }
   ],
   "source": [
    "# import một phần module\n",
    "from math import pi\n",
    "print(pi)"
   ]
  },
  {
   "cell_type": "markdown",
   "id": "4fc667a2",
   "metadata": {},
   "source": [
    "## Xử lý dữ liệu string trong python"
   ]
  },
  {
   "cell_type": "markdown",
   "id": "4f9f943e",
   "metadata": {},
   "source": [
    "### String là gì ?\n",
    "string là một chuỗi gồm các ký tự unicode"
   ]
  },
  {
   "cell_type": "markdown",
   "id": "1bb06c54",
   "metadata": {},
   "source": [
    "#### Khởi tạo một string"
   ]
  },
  {
   "cell_type": "code",
   "execution_count": 13,
   "id": "592a43d0",
   "metadata": {},
   "outputs": [],
   "source": [
    "# One-line string\n",
    "print(\"Bài học hôm nay chán thí pà nụi\")"
   ]
  },
  {
   "cell_type": "code",
   "execution_count": 32,
   "id": "1634be82",
   "metadata": {},
   "outputs": [
    {
     "name": "stdout",
     "output_type": "stream",
     "text": [
      "bài học hôm nay, String\n",
      "    + Nhập xuất dữ liệu\n",
      "    + Chán thí bà nụi\n"
     ]
    }
   ],
   "source": [
    "# multi-line tring\n",
    "txt=\"\"\"bài học hôm nay, String\n",
    "    + Nhập xuất dữ liệu\n",
    "    + Chán thí bà nụi\"\"\"\n",
    "\n",
    "print(txt)"
   ]
  },
  {
   "cell_type": "markdown",
   "id": "ac28854d",
   "metadata": {},
   "source": [
    "### Thao tác phổ biến với string"
   ]
  },
  {
   "cell_type": "code",
   "execution_count": 8,
   "id": "9d37488c",
   "metadata": {},
   "outputs": [
    {
     "name": "stdout",
     "output_type": "stream",
     "text": [
      "Số ký tự có trong chuỗi: 52\n"
     ]
    }
   ],
   "source": [
    "# Chiều dài chuỗi trong Python\n",
    "chuoi=\"Trời hôm nay có mưa mà phải đi làm trong chán chường\"\n",
    "\n",
    "print(\"Số ký tự có trong chuỗi:\", len(chuoi))"
   ]
  },
  {
   "cell_type": "code",
   "execution_count": 38,
   "id": "b4011bc8",
   "metadata": {},
   "outputs": [
    {
     "name": "stdout",
     "output_type": "stream",
     "text": [
      "h\n",
      "e\n",
      "l\n",
      "l\n",
      "o\n"
     ]
    },
    {
     "ename": "IndexError",
     "evalue": "string index out of range",
     "output_type": "error",
     "traceback": [
      "\u001b[1;31m---------------------------------------------------------------------------\u001b[0m",
      "\u001b[1;31mIndexError\u001b[0m                                Traceback (most recent call last)",
      "\u001b[1;32m~\\AppData\\Local\\Temp\\ipykernel_16640\\3922573517.py\u001b[0m in \u001b[0;36m<module>\u001b[1;34m\u001b[0m\n\u001b[0;32m      4\u001b[0m \u001b[1;33m\u001b[0m\u001b[0m\n\u001b[0;32m      5\u001b[0m \u001b[1;32mfor\u001b[0m \u001b[0mi\u001b[0m \u001b[1;32min\u001b[0m \u001b[0mrange\u001b[0m\u001b[1;33m(\u001b[0m\u001b[1;36m0\u001b[0m\u001b[1;33m,\u001b[0m\u001b[1;36m6\u001b[0m\u001b[1;33m)\u001b[0m\u001b[1;33m:\u001b[0m\u001b[1;33m\u001b[0m\u001b[1;33m\u001b[0m\u001b[0m\n\u001b[1;32m----> 6\u001b[1;33m     \u001b[0mprint\u001b[0m\u001b[1;33m(\u001b[0m\u001b[0mhello\u001b[0m\u001b[1;33m[\u001b[0m\u001b[0mi\u001b[0m\u001b[1;33m]\u001b[0m\u001b[1;33m)\u001b[0m\u001b[1;33m\u001b[0m\u001b[1;33m\u001b[0m\u001b[0m\n\u001b[0m\u001b[0;32m      7\u001b[0m \u001b[1;33m\u001b[0m\u001b[0m\n",
      "\u001b[1;31mIndexError\u001b[0m: string index out of range"
     ]
    }
   ],
   "source": [
    "# Truy cập các giá trị trong String\n",
    "hello=\"hello\"\n",
    "\n",
    "\n",
    "for i in range(0,6):\n",
    "    print(hello[i])\n",
    "\n"
   ]
  },
  {
   "cell_type": "markdown",
   "id": "745db278",
   "metadata": {},
   "source": [
    "## Các hàm cơ bản xử lý String trong Python"
   ]
  },
  {
   "cell_type": "markdown",
   "id": "0018ed27",
   "metadata": {},
   "source": [
    "Hàm strip()"
   ]
  },
  {
   "cell_type": "code",
   "execution_count": 20,
   "id": "a84941b2",
   "metadata": {},
   "outputs": [
    {
     "name": "stdout",
     "output_type": "stream",
     "text": [
      "Trời hôm nay có mưa mà phải         đi làm trong chán chường\n",
      "Trời hôm nay có mưa mà phải         đi làm trong chán chường\n"
     ]
    }
   ],
   "source": [
    "# Hàm strip() loại bỏ bất kỳ khoảng trắng từ đầu hoặc cuối cùng\n",
    "#lstrip và rstrip\n",
    "chuoi=\"    Trời hôm nay có mưa mà phải         đi làm trong chán chường     \"\n",
    "\n",
    "print(chuoi.strip())\n",
    "print(str.strip(chuoi))\n"
   ]
  },
  {
   "cell_type": "markdown",
   "id": "7c28a533",
   "metadata": {},
   "source": [
    "Hàm lower()"
   ]
  },
  {
   "cell_type": "code",
   "execution_count": 22,
   "id": "65e9b1c8",
   "metadata": {},
   "outputs": [
    {
     "name": "stdout",
     "output_type": "stream",
     "text": [
      "    trời hôm nay có mưa mà phải bla bla bla bla đi làm trong chán chường     \n",
      "    trời hôm nay có mưa mà phải bla bla bla bla đi làm trong chán chường     \n"
     ]
    }
   ],
   "source": [
    "# Hàm lower() trả về chuỗi chữ thường\n",
    "\n",
    "chuoi=\"    Trời hôm nay có mưa mà phải BLA BLA BLA BLA đi làm trong chán chường     \"\n",
    "\n",
    "print(chuoi.lower())\n",
    "print(str.lower(chuoi))"
   ]
  },
  {
   "cell_type": "markdown",
   "id": "b5c6d915",
   "metadata": {},
   "source": [
    "Hàm upper()"
   ]
  },
  {
   "cell_type": "code",
   "execution_count": 23,
   "id": "9d24632d",
   "metadata": {},
   "outputs": [
    {
     "name": "stdout",
     "output_type": "stream",
     "text": [
      "    TRỜI HÔM NAY CÓ MƯA MÀ PHẢI BLA BLA BLA BLA ĐI LÀM TRONG CHÁN CHƯỜNG     \n",
      "    TRỜI HÔM NAY CÓ MƯA MÀ PHẢI BLA BLA BLA BLA ĐI LÀM TRONG CHÁN CHƯỜNG     \n"
     ]
    }
   ],
   "source": [
    "# Hàm upper() trả về chuỗi chữ hoa\n",
    "\n",
    "chuoi=\"    Trời hôm nay có mưa mà phải BLA BLA BLA BLA đi làm trong chán chường     \"\n",
    "\n",
    "print(chuoi.upper())\n",
    "print(str.upper(chuoi))"
   ]
  },
  {
   "cell_type": "markdown",
   "id": "10a7c41b",
   "metadata": {},
   "source": [
    "Hàm replace()"
   ]
  },
  {
   "cell_type": "code",
   "execution_count": 26,
   "id": "bd48172d",
   "metadata": {},
   "outputs": [
    {
     "name": "stdout",
     "output_type": "stream",
     "text": [
      "    Trời hôm nay có mưa mà phải AH HI HI AH HI HI AH HI HI AH HI HI đi làm trong chán chường     \n"
     ]
    }
   ],
   "source": [
    "# Hàm replace() thay thế một chuỗi bằng một chuỗi khác\n",
    "\n",
    "chuoi=\"    Trời hôm nay có mưa mà phải BLA BLA BLA BLA đi làm trong chán chường     \"\n",
    "\n",
    "print(chuoi.replace(\"BLA\",\"AH HI HI\"))\n",
    "\n"
   ]
  },
  {
   "cell_type": "markdown",
   "id": "3c73da8f",
   "metadata": {},
   "source": [
    "Hàm split()"
   ]
  },
  {
   "cell_type": "code",
   "execution_count": 27,
   "id": "9cfe04d2",
   "metadata": {},
   "outputs": [
    {
     "name": "stdout",
     "output_type": "stream",
     "text": [
      "['Trời', 'hôm', 'nay', 'có', 'mưa', 'mà', 'phải', 'BLA', 'BLA', 'BLA', 'BLA', 'đi', 'làm', 'trong', 'chán', 'chường']\n"
     ]
    }
   ],
   "source": [
    "# Hàm split() tách chuỗi thành các chuỗi con\n",
    "\n",
    "chuoi=\"    Trời hôm nay có mưa mà phải BLA BLA BLA BLA đi làm trong chán chường     \"\n",
    "\n",
    "print(chuoi.split())\n",
    "\n",
    "\n",
    "\n"
   ]
  },
  {
   "cell_type": "markdown",
   "id": "4b1a064a",
   "metadata": {},
   "source": [
    "### Kiểm tra sự tồn tại của chuỗi trong chuỗi"
   ]
  },
  {
   "cell_type": "markdown",
   "id": "1e2c7877",
   "metadata": {},
   "source": [
    "Để kiểm tra xem một cụm từ hoặc ký tự nào đó có trong một chuỗi hay không, chúng ta có thể sử dụng các từ khóa in hoặc not in."
   ]
  },
  {
   "cell_type": "code",
   "execution_count": 28,
   "id": "2718ee2a",
   "metadata": {},
   "outputs": [
    {
     "name": "stdout",
     "output_type": "stream",
     "text": [
      "True\n"
     ]
    }
   ],
   "source": [
    "# in \n",
    "baihoc=\"python cho một người\"\n",
    "\n",
    "print(\"python\" in baihoc)\n"
   ]
  },
  {
   "cell_type": "code",
   "execution_count": 29,
   "id": "de902899",
   "metadata": {},
   "outputs": [
    {
     "name": "stdout",
     "output_type": "stream",
     "text": [
      "False\n"
     ]
    }
   ],
   "source": [
    "# not in\n",
    "baihoc=\"python cho một người\"\n",
    "\n",
    "print(\"python\" not in baihoc)"
   ]
  },
  {
   "cell_type": "code",
   "execution_count": null,
   "id": "23f47278",
   "metadata": {},
   "outputs": [],
   "source": []
  }
 ],
 "metadata": {
  "kernelspec": {
   "display_name": "Python 3 (ipykernel)",
   "language": "python",
   "name": "python3"
  },
  "language_info": {
   "codemirror_mode": {
    "name": "ipython",
    "version": 3
   },
   "file_extension": ".py",
   "mimetype": "text/x-python",
   "name": "python",
   "nbconvert_exporter": "python",
   "pygments_lexer": "ipython3",
   "version": "3.9.13"
  }
 },
 "nbformat": 4,
 "nbformat_minor": 5
}
